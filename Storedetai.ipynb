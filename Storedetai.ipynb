{
 "cells": [
  {
   "cell_type": "code",
   "execution_count": 4,
   "metadata": {},
   "outputs": [
    {
     "name": "stdout",
     "output_type": "stream",
     "text": [
      "All store data saved to 'storedetails.csv'\n"
     ]
    }
   ],
   "source": [
    "import requests\n",
    "from bs4 import BeautifulSoup\n",
    "import json\n",
    "import pandas as pd\n",
    "\n",
    "# URL to scrape\n",
    "url_base = \"https://www.lenskart.com/stores/location/\"\n",
    "\n",
    "# Send a GET request to the base URL to get the list of slug names\n",
    "response = requests.get(\"https://www.lenskart.com/stores\")\n",
    "\n",
    "\n",
    "# Parse the HTML content using BeautifulSoup\n",
    "soup = BeautifulSoup(response.text, \"html.parser\")\n",
    "\n",
    "# Find the script tag containing JSON data\n",
    "script_tag = soup.find(\"script\", id=\"__NEXT_DATA__\", type=\"application/json\")\n",
    "\n",
    "\n",
    "# Extract JSON data\n",
    "json_data = json.loads(script_tag.string.strip())\n",
    "# Accessing the required data structure\n",
    "states_data = json_data.get('props', {}).get('pageProps', {}).get('props', {}).get('states', {}).get('data', [])\n",
    "\n",
    "# Create an empty list to store all store information\n",
    "all_stores_info = []\n",
    "\n",
    "# Iterate over each slug name\n",
    "for state in states_data:\n",
    "    # Construct URL with slug name\n",
    "    url = url_base + state['slug']\n",
    "\n",
    "    # Send a GET request to the URL\n",
    "    response = requests.get(url)\n",
    "\n",
    "\n",
    "    # Parse the HTML content\n",
    "    soup = BeautifulSoup(response.text, \"html.parser\")\n",
    "\n",
    "    # Find the script tag with JSON data\n",
    "    script_tag = soup.find(\"script\", id=\"__NEXT_DATA__\")\n",
    "\n",
    "\n",
    "    json_data = json.loads(script_tag.string.strip())\n",
    "    result_data = json_data['props']['pageProps']['props']['result']['data']\n",
    "\n",
    "    # Append store information to the list\n",
    "    all_stores_info.extend(result_data)\n",
    "\n",
    "# Convert the list of store information to a DataFrame\n",
    "stores_df = pd.DataFrame(all_stores_info)\n",
    "\n",
    "# Save DataFrame as CSV\n",
    "stores_df.to_csv(\"storedetails.csv\", index=False)\n",
    "\n",
    "print(\"All store data saved to 'storedetails.csv'\")\n"
   ]
  },
  {
   "cell_type": "code",
   "execution_count": null,
   "metadata": {},
   "outputs": [],
   "source": []
  }
 ],
 "metadata": {
  "kernelspec": {
   "display_name": "Python 3",
   "language": "python",
   "name": "python3"
  },
  "language_info": {
   "codemirror_mode": {
    "name": "ipython",
    "version": 3
   },
   "file_extension": ".py",
   "mimetype": "text/x-python",
   "name": "python",
   "nbconvert_exporter": "python",
   "pygments_lexer": "ipython3",
   "version": "3.12.2"
  }
 },
 "nbformat": 4,
 "nbformat_minor": 2
}
